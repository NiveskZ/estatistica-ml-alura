{
  "nbformat": 4,
  "nbformat_minor": 0,
  "metadata": {
    "colab": {
      "provenance": []
    },
    "kernelspec": {
      "name": "python3",
      "display_name": "Python 3"
    },
    "language_info": {
      "name": "python"
    }
  },
  "cells": [
    {
      "cell_type": "markdown",
      "source": [
        "Como pessoa Cientista de Dados, você está encarregada pela análise do problema de precificação de quartos de hotéis, fazendo uso do conjunto de dados fornecidos. Para isso, você dispõe desse [dataset](https://cdn3.gnarususercontent.com.br/3677-data-science-regressao-linear/Projeto/Base%20de%20dados/hoteis.csv).\n",
        "\n",
        "Nesta atividade, sua tarefa envolve conduzir as seguintes etapas:\n",
        "\n",
        "    análise inicial com o PairPlot da Seaborn;\n",
        "    construir modelos de regressão linear; e\n",
        "    realizar a comparação desses modelos.\n",
        "\n",
        "Dedique-se às atividades e desenvolva as suas habilidades por meio da aplicação do seu conhecimento adquirido ao longo do curso.\n"
      ],
      "metadata": {
        "id": "nGlVwvF_zyvl"
      }
    },
    {
      "cell_type": "code",
      "execution_count": 19,
      "metadata": {
        "id": "7M1vDAXnua5w"
      },
      "outputs": [],
      "source": [
        "import pandas as pd\n",
        "import seaborn as sns\n",
        "from sklearn.model_selection import train_test_split\n",
        "from statsmodels.formula.api import ols\n",
        "import statsmodels.api as sm"
      ]
    },
    {
      "cell_type": "code",
      "source": [
        "dados = pd.read_csv('hoteis.csv')\n",
        "dados.head()"
      ],
      "metadata": {
        "colab": {
          "base_uri": "https://localhost:8080/",
          "height": 206
        },
        "id": "ypJdgIq_uhzN",
        "outputId": "5713c384-ecee-4d26-c14b-c3b05f7f76a8"
      },
      "execution_count": 9,
      "outputs": [
        {
          "output_type": "execute_result",
          "data": {
            "text/plain": [
              "   Estrelas  ProximidadeTurismo  Capacidade       Preco\n",
              "0         5            9.301565           3  506.275452\n",
              "1         1            1.785891           1  246.363458\n",
              "2         4           15.504293           3  325.873550\n",
              "3         4            4.173188           3  521.343284\n",
              "4         4            9.443685           1  252.587087"
            ],
            "text/html": [
              "\n",
              "  <div id=\"df-a8c51260-a51a-42c2-92fe-a765853122b9\" class=\"colab-df-container\">\n",
              "    <div>\n",
              "<style scoped>\n",
              "    .dataframe tbody tr th:only-of-type {\n",
              "        vertical-align: middle;\n",
              "    }\n",
              "\n",
              "    .dataframe tbody tr th {\n",
              "        vertical-align: top;\n",
              "    }\n",
              "\n",
              "    .dataframe thead th {\n",
              "        text-align: right;\n",
              "    }\n",
              "</style>\n",
              "<table border=\"1\" class=\"dataframe\">\n",
              "  <thead>\n",
              "    <tr style=\"text-align: right;\">\n",
              "      <th></th>\n",
              "      <th>Estrelas</th>\n",
              "      <th>ProximidadeTurismo</th>\n",
              "      <th>Capacidade</th>\n",
              "      <th>Preco</th>\n",
              "    </tr>\n",
              "  </thead>\n",
              "  <tbody>\n",
              "    <tr>\n",
              "      <th>0</th>\n",
              "      <td>5</td>\n",
              "      <td>9.301565</td>\n",
              "      <td>3</td>\n",
              "      <td>506.275452</td>\n",
              "    </tr>\n",
              "    <tr>\n",
              "      <th>1</th>\n",
              "      <td>1</td>\n",
              "      <td>1.785891</td>\n",
              "      <td>1</td>\n",
              "      <td>246.363458</td>\n",
              "    </tr>\n",
              "    <tr>\n",
              "      <th>2</th>\n",
              "      <td>4</td>\n",
              "      <td>15.504293</td>\n",
              "      <td>3</td>\n",
              "      <td>325.873550</td>\n",
              "    </tr>\n",
              "    <tr>\n",
              "      <th>3</th>\n",
              "      <td>4</td>\n",
              "      <td>4.173188</td>\n",
              "      <td>3</td>\n",
              "      <td>521.343284</td>\n",
              "    </tr>\n",
              "    <tr>\n",
              "      <th>4</th>\n",
              "      <td>4</td>\n",
              "      <td>9.443685</td>\n",
              "      <td>1</td>\n",
              "      <td>252.587087</td>\n",
              "    </tr>\n",
              "  </tbody>\n",
              "</table>\n",
              "</div>\n",
              "    <div class=\"colab-df-buttons\">\n",
              "\n",
              "  <div class=\"colab-df-container\">\n",
              "    <button class=\"colab-df-convert\" onclick=\"convertToInteractive('df-a8c51260-a51a-42c2-92fe-a765853122b9')\"\n",
              "            title=\"Convert this dataframe to an interactive table.\"\n",
              "            style=\"display:none;\">\n",
              "\n",
              "  <svg xmlns=\"http://www.w3.org/2000/svg\" height=\"24px\" viewBox=\"0 -960 960 960\">\n",
              "    <path d=\"M120-120v-720h720v720H120Zm60-500h600v-160H180v160Zm220 220h160v-160H400v160Zm0 220h160v-160H400v160ZM180-400h160v-160H180v160Zm440 0h160v-160H620v160ZM180-180h160v-160H180v160Zm440 0h160v-160H620v160Z\"/>\n",
              "  </svg>\n",
              "    </button>\n",
              "\n",
              "  <style>\n",
              "    .colab-df-container {\n",
              "      display:flex;\n",
              "      gap: 12px;\n",
              "    }\n",
              "\n",
              "    .colab-df-convert {\n",
              "      background-color: #E8F0FE;\n",
              "      border: none;\n",
              "      border-radius: 50%;\n",
              "      cursor: pointer;\n",
              "      display: none;\n",
              "      fill: #1967D2;\n",
              "      height: 32px;\n",
              "      padding: 0 0 0 0;\n",
              "      width: 32px;\n",
              "    }\n",
              "\n",
              "    .colab-df-convert:hover {\n",
              "      background-color: #E2EBFA;\n",
              "      box-shadow: 0px 1px 2px rgba(60, 64, 67, 0.3), 0px 1px 3px 1px rgba(60, 64, 67, 0.15);\n",
              "      fill: #174EA6;\n",
              "    }\n",
              "\n",
              "    .colab-df-buttons div {\n",
              "      margin-bottom: 4px;\n",
              "    }\n",
              "\n",
              "    [theme=dark] .colab-df-convert {\n",
              "      background-color: #3B4455;\n",
              "      fill: #D2E3FC;\n",
              "    }\n",
              "\n",
              "    [theme=dark] .colab-df-convert:hover {\n",
              "      background-color: #434B5C;\n",
              "      box-shadow: 0px 1px 3px 1px rgba(0, 0, 0, 0.15);\n",
              "      filter: drop-shadow(0px 1px 2px rgba(0, 0, 0, 0.3));\n",
              "      fill: #FFFFFF;\n",
              "    }\n",
              "  </style>\n",
              "\n",
              "    <script>\n",
              "      const buttonEl =\n",
              "        document.querySelector('#df-a8c51260-a51a-42c2-92fe-a765853122b9 button.colab-df-convert');\n",
              "      buttonEl.style.display =\n",
              "        google.colab.kernel.accessAllowed ? 'block' : 'none';\n",
              "\n",
              "      async function convertToInteractive(key) {\n",
              "        const element = document.querySelector('#df-a8c51260-a51a-42c2-92fe-a765853122b9');\n",
              "        const dataTable =\n",
              "          await google.colab.kernel.invokeFunction('convertToInteractive',\n",
              "                                                    [key], {});\n",
              "        if (!dataTable) return;\n",
              "\n",
              "        const docLinkHtml = 'Like what you see? Visit the ' +\n",
              "          '<a target=\"_blank\" href=https://colab.research.google.com/notebooks/data_table.ipynb>data table notebook</a>'\n",
              "          + ' to learn more about interactive tables.';\n",
              "        element.innerHTML = '';\n",
              "        dataTable['output_type'] = 'display_data';\n",
              "        await google.colab.output.renderOutput(dataTable, element);\n",
              "        const docLink = document.createElement('div');\n",
              "        docLink.innerHTML = docLinkHtml;\n",
              "        element.appendChild(docLink);\n",
              "      }\n",
              "    </script>\n",
              "  </div>\n",
              "\n",
              "\n",
              "    <div id=\"df-7ad2145b-d372-40dc-aaba-a07ab2cc95eb\">\n",
              "      <button class=\"colab-df-quickchart\" onclick=\"quickchart('df-7ad2145b-d372-40dc-aaba-a07ab2cc95eb')\"\n",
              "                title=\"Suggest charts\"\n",
              "                style=\"display:none;\">\n",
              "\n",
              "<svg xmlns=\"http://www.w3.org/2000/svg\" height=\"24px\"viewBox=\"0 0 24 24\"\n",
              "     width=\"24px\">\n",
              "    <g>\n",
              "        <path d=\"M19 3H5c-1.1 0-2 .9-2 2v14c0 1.1.9 2 2 2h14c1.1 0 2-.9 2-2V5c0-1.1-.9-2-2-2zM9 17H7v-7h2v7zm4 0h-2V7h2v10zm4 0h-2v-4h2v4z\"/>\n",
              "    </g>\n",
              "</svg>\n",
              "      </button>\n",
              "\n",
              "<style>\n",
              "  .colab-df-quickchart {\n",
              "      --bg-color: #E8F0FE;\n",
              "      --fill-color: #1967D2;\n",
              "      --hover-bg-color: #E2EBFA;\n",
              "      --hover-fill-color: #174EA6;\n",
              "      --disabled-fill-color: #AAA;\n",
              "      --disabled-bg-color: #DDD;\n",
              "  }\n",
              "\n",
              "  [theme=dark] .colab-df-quickchart {\n",
              "      --bg-color: #3B4455;\n",
              "      --fill-color: #D2E3FC;\n",
              "      --hover-bg-color: #434B5C;\n",
              "      --hover-fill-color: #FFFFFF;\n",
              "      --disabled-bg-color: #3B4455;\n",
              "      --disabled-fill-color: #666;\n",
              "  }\n",
              "\n",
              "  .colab-df-quickchart {\n",
              "    background-color: var(--bg-color);\n",
              "    border: none;\n",
              "    border-radius: 50%;\n",
              "    cursor: pointer;\n",
              "    display: none;\n",
              "    fill: var(--fill-color);\n",
              "    height: 32px;\n",
              "    padding: 0;\n",
              "    width: 32px;\n",
              "  }\n",
              "\n",
              "  .colab-df-quickchart:hover {\n",
              "    background-color: var(--hover-bg-color);\n",
              "    box-shadow: 0 1px 2px rgba(60, 64, 67, 0.3), 0 1px 3px 1px rgba(60, 64, 67, 0.15);\n",
              "    fill: var(--button-hover-fill-color);\n",
              "  }\n",
              "\n",
              "  .colab-df-quickchart-complete:disabled,\n",
              "  .colab-df-quickchart-complete:disabled:hover {\n",
              "    background-color: var(--disabled-bg-color);\n",
              "    fill: var(--disabled-fill-color);\n",
              "    box-shadow: none;\n",
              "  }\n",
              "\n",
              "  .colab-df-spinner {\n",
              "    border: 2px solid var(--fill-color);\n",
              "    border-color: transparent;\n",
              "    border-bottom-color: var(--fill-color);\n",
              "    animation:\n",
              "      spin 1s steps(1) infinite;\n",
              "  }\n",
              "\n",
              "  @keyframes spin {\n",
              "    0% {\n",
              "      border-color: transparent;\n",
              "      border-bottom-color: var(--fill-color);\n",
              "      border-left-color: var(--fill-color);\n",
              "    }\n",
              "    20% {\n",
              "      border-color: transparent;\n",
              "      border-left-color: var(--fill-color);\n",
              "      border-top-color: var(--fill-color);\n",
              "    }\n",
              "    30% {\n",
              "      border-color: transparent;\n",
              "      border-left-color: var(--fill-color);\n",
              "      border-top-color: var(--fill-color);\n",
              "      border-right-color: var(--fill-color);\n",
              "    }\n",
              "    40% {\n",
              "      border-color: transparent;\n",
              "      border-right-color: var(--fill-color);\n",
              "      border-top-color: var(--fill-color);\n",
              "    }\n",
              "    60% {\n",
              "      border-color: transparent;\n",
              "      border-right-color: var(--fill-color);\n",
              "    }\n",
              "    80% {\n",
              "      border-color: transparent;\n",
              "      border-right-color: var(--fill-color);\n",
              "      border-bottom-color: var(--fill-color);\n",
              "    }\n",
              "    90% {\n",
              "      border-color: transparent;\n",
              "      border-bottom-color: var(--fill-color);\n",
              "    }\n",
              "  }\n",
              "</style>\n",
              "\n",
              "      <script>\n",
              "        async function quickchart(key) {\n",
              "          const quickchartButtonEl =\n",
              "            document.querySelector('#' + key + ' button');\n",
              "          quickchartButtonEl.disabled = true;  // To prevent multiple clicks.\n",
              "          quickchartButtonEl.classList.add('colab-df-spinner');\n",
              "          try {\n",
              "            const charts = await google.colab.kernel.invokeFunction(\n",
              "                'suggestCharts', [key], {});\n",
              "          } catch (error) {\n",
              "            console.error('Error during call to suggestCharts:', error);\n",
              "          }\n",
              "          quickchartButtonEl.classList.remove('colab-df-spinner');\n",
              "          quickchartButtonEl.classList.add('colab-df-quickchart-complete');\n",
              "        }\n",
              "        (() => {\n",
              "          let quickchartButtonEl =\n",
              "            document.querySelector('#df-7ad2145b-d372-40dc-aaba-a07ab2cc95eb button');\n",
              "          quickchartButtonEl.style.display =\n",
              "            google.colab.kernel.accessAllowed ? 'block' : 'none';\n",
              "        })();\n",
              "      </script>\n",
              "    </div>\n",
              "\n",
              "    </div>\n",
              "  </div>\n"
            ],
            "application/vnd.google.colaboratory.intrinsic+json": {
              "type": "dataframe",
              "variable_name": "dados",
              "summary": "{\n  \"name\": \"dados\",\n  \"rows\": 1000,\n  \"fields\": [\n    {\n      \"column\": \"Estrelas\",\n      \"properties\": {\n        \"dtype\": \"number\",\n        \"std\": 1,\n        \"min\": 1,\n        \"max\": 5,\n        \"num_unique_values\": 5,\n        \"samples\": [\n          1,\n          3,\n          4\n        ],\n        \"semantic_type\": \"\",\n        \"description\": \"\"\n      }\n    },\n    {\n      \"column\": \"ProximidadeTurismo\",\n      \"properties\": {\n        \"dtype\": \"number\",\n        \"std\": 5.8701369408161455,\n        \"min\": 0.0138504273509572,\n        \"max\": 31.7097477329018,\n        \"num_unique_values\": 1000,\n        \"samples\": [\n          1.7220079269688262,\n          8.228283242942817,\n          9.724028893524975\n        ],\n        \"semantic_type\": \"\",\n        \"description\": \"\"\n      }\n    },\n    {\n      \"column\": \"Capacidade\",\n      \"properties\": {\n        \"dtype\": \"number\",\n        \"std\": 1,\n        \"min\": 1,\n        \"max\": 4,\n        \"num_unique_values\": 4,\n        \"samples\": [\n          1,\n          2,\n          3\n        ],\n        \"semantic_type\": \"\",\n        \"description\": \"\"\n      }\n    },\n    {\n      \"column\": \"Preco\",\n      \"properties\": {\n        \"dtype\": \"number\",\n        \"std\": 171.74243342059768,\n        \"min\": -220.2087048948264,\n        \"max\": 836.2613078967568,\n        \"num_unique_values\": 1000,\n        \"samples\": [\n          546.4550108167069,\n          230.80462478323912,\n          445.356134284306\n        ],\n        \"semantic_type\": \"\",\n        \"description\": \"\"\n      }\n    }\n  ]\n}"
            }
          },
          "metadata": {},
          "execution_count": 9
        }
      ]
    },
    {
      "cell_type": "code",
      "source": [
        "sns.pairplot(dados,y_vars='Preco')"
      ],
      "metadata": {
        "colab": {
          "base_uri": "https://localhost:8080/",
          "height": 286
        },
        "id": "8gC4ezRzunx5",
        "outputId": "b96875c1-86cf-49ff-afbf-aad3dabb3a60"
      },
      "execution_count": 10,
      "outputs": [
        {
          "output_type": "execute_result",
          "data": {
            "text/plain": [
              "<seaborn.axisgrid.PairGrid at 0x793be3845250>"
            ]
          },
          "metadata": {},
          "execution_count": 10
        },
        {
          "output_type": "display_data",
          "data": {
            "text/plain": [
              "<Figure size 1000x250 with 5 Axes>"
            ],
            "image/png": "[encoded data removed]"
          },
          "metadata": {}
        }
      ]
    },
    {
      "cell_type": "code",
      "source": [
        "y = dados['Preco']\n",
        "X = dados.drop(columns = 'Preco')"
      ],
      "metadata": {
        "id": "ULTgJWKxu18b"
      },
      "execution_count": 13,
      "outputs": []
    },
    {
      "cell_type": "code",
      "source": [
        "X_train, X_test, y_train, y_test = train_test_split(X,y, test_size=0.3, random_state=42)"
      ],
      "metadata": {
        "id": "-XrP11JPvgC0"
      },
      "execution_count": 14,
      "outputs": []
    },
    {
      "cell_type": "code",
      "source": [
        "df_train = pd.DataFrame(data=X_train)\n",
        "df_train['Preco'] = y_train"
      ],
      "metadata": {
        "id": "cuyZ4Lqovxa2"
      },
      "execution_count": 22,
      "outputs": []
    },
    {
      "cell_type": "code",
      "source": [
        "modelo1 = ols('Preco ~ Estrelas', data = df_train).fit()"
      ],
      "metadata": {
        "id": "9jo5CQjyv5sm"
      },
      "execution_count": 23,
      "outputs": []
    },
    {
      "cell_type": "code",
      "source": [
        "print(modelo1.summary())"
      ],
      "metadata": {
        "colab": {
          "base_uri": "https://localhost:8080/"
        },
        "id": "w8HQiuElwu_A",
        "outputId": "d1635c43-ab19-404e-e3a2-245505387935"
      },
      "execution_count": 25,
      "outputs": [
        {
          "output_type": "stream",
          "name": "stdout",
          "text": [
            "                            OLS Regression Results                            \n",
            "==============================================================================\n",
            "Dep. Variable:                  Preco   R-squared:                       0.178\n",
            "Model:                            OLS   Adj. R-squared:                  0.177\n",
            "Method:                 Least Squares   F-statistic:                     150.9\n",
            "Date:                Sun, 03 Aug 2025   Prob (F-statistic):           1.54e-31\n",
            "Time:                        16:29:19   Log-Likelihood:                -4528.1\n",
            "No. Observations:                 700   AIC:                             9060.\n",
            "Df Residuals:                     698   BIC:                             9069.\n",
            "Df Model:                           1                                         \n",
            "Covariance Type:            nonrobust                                         \n",
            "==============================================================================\n",
            "                 coef    std err          t      P>|t|      [0.025      0.975]\n",
            "------------------------------------------------------------------------------\n",
            "Intercept    240.0978     13.772     17.434      0.000     213.058     267.137\n",
            "Estrelas      50.9958      4.151     12.284      0.000      42.845      59.146\n",
            "==============================================================================\n",
            "Omnibus:                       20.651   Durbin-Watson:                   2.004\n",
            "Prob(Omnibus):                  0.000   Jarque-Bera (JB):               21.709\n",
            "Skew:                          -0.425   Prob(JB):                     1.93e-05\n",
            "Kurtosis:                       3.146   Cond. No.                         8.32\n",
            "==============================================================================\n",
            "\n",
            "Notes:\n",
            "[1] Standard Errors assume that the covariance matrix of the errors is correctly specified.\n"
          ]
        }
      ]
    },
    {
      "cell_type": "code",
      "source": [
        "X_train = sm.add_constant(X_train)\n",
        "modelo2 = sm.OLS(y_train, X_train[['const','Estrelas', 'ProximidadeTurismo']]).fit()\n",
        "modelo3 = sm.OLS(y_train, X_train[['const','Estrelas', 'Capacidade']]).fit()\n",
        "modelo4 = sm.OLS(y_train, X_train[['const','Capacidade', 'ProximidadeTurismo']]).fit()\n",
        "modelo5 = sm.OLS(y_train, X_train[['const','Estrelas', 'ProximidadeTurismo','Capacidade']]).fit()"
      ],
      "metadata": {
        "id": "Q5GeVq3Ew2Tq"
      },
      "execution_count": 30,
      "outputs": []
    },
    {
      "cell_type": "code",
      "source": [
        "print(\"Modelo 1: \", modelo1.rsquared)\n",
        "print(\"Modelo 2: \", modelo2.rsquared)\n",
        "print(\"Modelo 3: \", modelo3.rsquared)\n",
        "print(\"Modelo 4: \", modelo4.rsquared)\n",
        "print(\"Modelo 5: \", modelo5.rsquared)"
      ],
      "metadata": {
        "colab": {
          "base_uri": "https://localhost:8080/"
        },
        "id": "JbjpsiW7xhai",
        "outputId": "a1092d63-c85b-4c8a-fdd2-81365e276a4b"
      },
      "execution_count": 31,
      "outputs": [
        {
          "output_type": "stream",
          "name": "stdout",
          "text": [
            "Modelo 1:  0.17775997575293379\n",
            "Modelo 2:  0.6542080651896893\n",
            "Modelo 3:  0.4642000323891067\n",
            "Modelo 4:  0.7532991269421774\n",
            "Modelo 5:  0.9232625292194134\n"
          ]
        }
      ]
    },
    {
      "cell_type": "code",
      "source": [
        "print(modelo2.summary())"
      ],
      "metadata": {
        "colab": {
          "base_uri": "https://localhost:8080/"
        },
        "id": "SRCFFzu0x3EN",
        "outputId": "1cb3fbe3-371e-4f77-b720-998ea05e0815"
      },
      "execution_count": 34,
      "outputs": [
        {
          "output_type": "stream",
          "name": "stdout",
          "text": [
            "                            OLS Regression Results                            \n",
            "==============================================================================\n",
            "Dep. Variable:                  Preco   R-squared:                       0.654\n",
            "Model:                            OLS   Adj. R-squared:                  0.653\n",
            "Method:                 Least Squares   F-statistic:                     659.3\n",
            "Date:                Sun, 03 Aug 2025   Prob (F-statistic):          1.89e-161\n",
            "Time:                        16:36:16   Log-Likelihood:                -4224.9\n",
            "No. Observations:                 700   AIC:                             8456.\n",
            "Df Residuals:                     697   BIC:                             8470.\n",
            "Df Model:                           2                                         \n",
            "Covariance Type:            nonrobust                                         \n",
            "======================================================================================\n",
            "                         coef    std err          t      P>|t|      [0.025      0.975]\n",
            "--------------------------------------------------------------------------------------\n",
            "const                409.1861     10.471     39.077      0.000     388.627     429.745\n",
            "Estrelas              47.0511      2.697     17.445      0.000      41.756      52.346\n",
            "ProximidadeTurismo   -20.0966      0.648    -30.990      0.000     -21.370     -18.823\n",
            "==============================================================================\n",
            "Omnibus:                      121.182   Durbin-Watson:                   2.038\n",
            "Prob(Omnibus):                  0.000   Jarque-Bera (JB):               27.103\n",
            "Skew:                          -0.008   Prob(JB):                     1.30e-06\n",
            "Kurtosis:                       2.036   Cond. No.                         28.3\n",
            "==============================================================================\n",
            "\n",
            "Notes:\n",
            "[1] Standard Errors assume that the covariance matrix of the errors is correctly specified.\n"
          ]
        }
      ]
    },
    {
      "cell_type": "code",
      "source": [
        "print(modelo3.summary())"
      ],
      "metadata": {
        "colab": {
          "base_uri": "https://localhost:8080/"
        },
        "id": "oqxd8piryX34",
        "outputId": "41fee574-71de-492f-fa13-9c7a1335729e"
      },
      "execution_count": 36,
      "outputs": [
        {
          "output_type": "stream",
          "name": "stdout",
          "text": [
            "                            OLS Regression Results                            \n",
            "==============================================================================\n",
            "Dep. Variable:                  Preco   R-squared:                       0.464\n",
            "Model:                            OLS   Adj. R-squared:                  0.463\n",
            "Method:                 Least Squares   F-statistic:                     301.9\n",
            "Date:                Sun, 03 Aug 2025   Prob (F-statistic):           3.61e-95\n",
            "Time:                        16:36:26   Log-Likelihood:                -4378.2\n",
            "No. Observations:                 700   AIC:                             8762.\n",
            "Df Residuals:                     697   BIC:                             8776.\n",
            "Df Model:                           2                                         \n",
            "Covariance Type:            nonrobust                                         \n",
            "==============================================================================\n",
            "                 coef    std err          t      P>|t|      [0.025      0.975]\n",
            "------------------------------------------------------------------------------\n",
            "const         18.9346     15.970      1.186      0.236     -12.421      50.290\n",
            "Estrelas      53.9376      3.357     16.067      0.000      47.347      60.529\n",
            "Capacidade    83.4600      4.324     19.303      0.000      74.971      91.949\n",
            "==============================================================================\n",
            "Omnibus:                       64.748   Durbin-Watson:                   1.993\n",
            "Prob(Omnibus):                  0.000   Jarque-Bera (JB):               81.468\n",
            "Skew:                          -0.773   Prob(JB):                     2.04e-18\n",
            "Kurtosis:                       3.637   Cond. No.                         14.6\n",
            "==============================================================================\n",
            "\n",
            "Notes:\n",
            "[1] Standard Errors assume that the covariance matrix of the errors is correctly specified.\n"
          ]
        }
      ]
    },
    {
      "cell_type": "code",
      "source": [
        "print(modelo4.summary())"
      ],
      "metadata": {
        "colab": {
          "base_uri": "https://localhost:8080/"
        },
        "id": "ueCeoTK8yeKB",
        "outputId": "62e2a7e4-0b2f-4369-af60-6258c59c6d30"
      },
      "execution_count": 37,
      "outputs": [
        {
          "output_type": "stream",
          "name": "stdout",
          "text": [
            "                            OLS Regression Results                            \n",
            "==============================================================================\n",
            "Dep. Variable:                  Preco   R-squared:                       0.753\n",
            "Model:                            OLS   Adj. R-squared:                  0.753\n",
            "Method:                 Least Squares   F-statistic:                     1064.\n",
            "Date:                Sun, 03 Aug 2025   Prob (F-statistic):          1.48e-212\n",
            "Time:                        16:36:40   Log-Likelihood:                -4106.8\n",
            "No. Observations:                 700   AIC:                             8220.\n",
            "Df Residuals:                     697   BIC:                             8233.\n",
            "Df Model:                           2                                         \n",
            "Covariance Type:            nonrobust                                         \n",
            "======================================================================================\n",
            "                         coef    std err          t      P>|t|      [0.025      0.975]\n",
            "--------------------------------------------------------------------------------------\n",
            "const                353.6340      9.265     38.168      0.000     335.443     371.825\n",
            "Capacidade            77.9211      2.931     26.581      0.000      72.165      83.677\n",
            "ProximidadeTurismo   -20.3116      0.547    -37.114      0.000     -21.386     -19.237\n",
            "==============================================================================\n",
            "Omnibus:                       28.223   Durbin-Watson:                   2.026\n",
            "Prob(Omnibus):                  0.000   Jarque-Bera (JB):               13.620\n",
            "Skew:                          -0.112   Prob(JB):                      0.00110\n",
            "Kurtosis:                       2.355   Cond. No.                         29.8\n",
            "==============================================================================\n",
            "\n",
            "Notes:\n",
            "[1] Standard Errors assume that the covariance matrix of the errors is correctly specified.\n"
          ]
        }
      ]
    },
    {
      "cell_type": "code",
      "source": [
        "print(modelo5.summary())"
      ],
      "metadata": {
        "colab": {
          "base_uri": "https://localhost:8080/"
        },
        "id": "JdeDv4nKyi5U",
        "outputId": "22ccd624-b7c3-419b-a158-4a5cd1541d87"
      },
      "execution_count": 38,
      "outputs": [
        {
          "output_type": "stream",
          "name": "stdout",
          "text": [
            "                            OLS Regression Results                            \n",
            "==============================================================================\n",
            "Dep. Variable:                  Preco   R-squared:                       0.923\n",
            "Model:                            OLS   Adj. R-squared:                  0.923\n",
            "Method:                 Least Squares   F-statistic:                     2791.\n",
            "Date:                Sun, 03 Aug 2025   Prob (F-statistic):               0.00\n",
            "Time:                        16:36:55   Log-Likelihood:                -3698.0\n",
            "No. Observations:                 700   AIC:                             7404.\n",
            "Df Residuals:                     696   BIC:                             7422.\n",
            "Df Model:                           3                                         \n",
            "Covariance Type:            nonrobust                                         \n",
            "======================================================================================\n",
            "                         coef    std err          t      P>|t|      [0.025      0.975]\n",
            "--------------------------------------------------------------------------------------\n",
            "const                191.7119      6.614     28.984      0.000     178.726     204.698\n",
            "Estrelas              49.9746      1.273     39.263      0.000      47.476      52.474\n",
            "ProximidadeTurismo   -19.7323      0.306    -64.526      0.000     -20.333     -19.132\n",
            "Capacidade            80.9111      1.638     49.399      0.000      77.695      84.127\n",
            "==============================================================================\n",
            "Omnibus:                        3.594   Durbin-Watson:                   2.014\n",
            "Prob(Omnibus):                  0.166   Jarque-Bera (JB):                3.673\n",
            "Skew:                          -0.166   Prob(JB):                        0.159\n",
            "Kurtosis:                       2.875   Cond. No.                         38.7\n",
            "==============================================================================\n",
            "\n",
            "Notes:\n",
            "[1] Standard Errors assume that the covariance matrix of the errors is correctly specified.\n"
          ]
        }
      ]
    },
    {
      "cell_type": "code",
      "source": [],
      "metadata": {
        "id": "xPq0UA-Jymku"
      },
      "execution_count": null,
      "outputs": []
    }
  ]
}